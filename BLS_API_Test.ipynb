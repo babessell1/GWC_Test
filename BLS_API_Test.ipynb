{
  "nbformat": 4,
  "nbformat_minor": 0,
  "metadata": {
    "colab": {
      "provenance": [],
      "authorship_tag": "ABX9TyM1lLj2VujOx97YkZZsSHCD",
      "include_colab_link": true
    },
    "kernelspec": {
      "name": "python3",
      "display_name": "Python 3"
    },
    "language_info": {
      "name": "python"
    }
  },
  "cells": [
    {
      "cell_type": "markdown",
      "metadata": {
        "id": "view-in-github",
        "colab_type": "text"
      },
      "source": [
        "<a href=\"https://colab.research.google.com/github/babessell1/GWC_Test/blob/main/BLS_API_Test.ipynb\" target=\"_parent\"><img src=\"https://colab.research.google.com/assets/colab-badge.svg\" alt=\"Open In Colab\"/></a>"
      ]
    },
    {
      "cell_type": "code",
      "execution_count": null,
      "metadata": {
        "colab": {
          "base_uri": "https://localhost:8080/"
        },
        "id": "2B_OZ9pXZSl2",
        "outputId": "d8b786c8-8137-4ec4-c0cd-e1903cd7d30c"
      },
      "outputs": [
        {
          "output_type": "stream",
          "name": "stdout",
          "text": [
            "Requirement already satisfied: pandas in /usr/local/lib/python3.12/dist-packages (2.2.2)\n",
            "Requirement already satisfied: numpy in /usr/local/lib/python3.12/dist-packages (2.0.2)\n",
            "Requirement already satisfied: numba in /usr/local/lib/python3.12/dist-packages (0.60.0)\n",
            "Requirement already satisfied: python-dateutil>=2.8.2 in /usr/local/lib/python3.12/dist-packages (from pandas) (2.9.0.post0)\n",
            "Requirement already satisfied: pytz>=2020.1 in /usr/local/lib/python3.12/dist-packages (from pandas) (2025.2)\n",
            "Requirement already satisfied: tzdata>=2022.7 in /usr/local/lib/python3.12/dist-packages (from pandas) (2025.2)\n",
            "Requirement already satisfied: llvmlite<0.44,>=0.43.0dev0 in /usr/local/lib/python3.12/dist-packages (from numba) (0.43.0)\n",
            "Requirement already satisfied: six>=1.5 in /usr/local/lib/python3.12/dist-packages (from python-dateutil>=2.8.2->pandas) (1.17.0)\n"
          ]
        }
      ],
      "source": [
        "!pip install pandas numpy numba"
      ]
    },
    {
      "cell_type": "code",
      "source": [
        "import requests\n",
        "import json\n",
        "import prettytable\n",
        "headers = {'Content-type': 'application/json'}\n",
        "data = json.dumps({\"seriesid\": ['CUUR0000SA0','SUUR0000SA0'],\"startyear\":\"2011\", \"endyear\":\"2014\"})\n",
        "p = requests.post('https://api.bls.gov/publicAPI/v1/timeseries/data/', data=data, headers=headers)\n",
        "json_data = json.loads(p.text)\n",
        "for _series_ in json_data['Results']['series']:\n",
        "    x=prettytable.PrettyTable([\"series id\",\"year\",\"period\",\"value\",\"footnotes\"])\n",
        "    seriesId = _series_['seriesID']\n",
        "    for item in _series_['data']:\n",
        "        year = item['year']\n",
        "        period = item['period']\n",
        "        value = item['value']\n",
        "        footnotes=\"\"\n",
        "        for footnote in item['footnotes']:\n",
        "            if footnote:\n",
        "                footnotes = footnotes + footnote['text'] + ','\n",
        "\n",
        "        if 'M01' <= period <= 'M12':\n",
        "            x.add_row([seriesId,year,period,value,footnotes[0:-1]])\n",
        "    output = open(seriesId + '.txt','w')\n",
        "    output.write (x.get_string())\n",
        "    output.close()"
      ],
      "metadata": {
        "id": "W9vFeqEtcEf3",
        "colab": {
          "base_uri": "https://localhost:8080/",
          "height": 211
        },
        "outputId": "ba8fed79-2c38-41c8-b923-ea5d3cc28129"
      },
      "execution_count": 14,
      "outputs": [
        {
          "output_type": "error",
          "ename": "KeyError",
          "evalue": "'series'",
          "traceback": [
            "\u001b[0;31m---------------------------------------------------------------------------\u001b[0m",
            "\u001b[0;31mKeyError\u001b[0m                                  Traceback (most recent call last)",
            "\u001b[0;32m/tmp/ipython-input-3787903653.py\u001b[0m in \u001b[0;36m<cell line: 0>\u001b[0;34m()\u001b[0m\n\u001b[1;32m      6\u001b[0m \u001b[0mp\u001b[0m \u001b[0;34m=\u001b[0m \u001b[0mrequests\u001b[0m\u001b[0;34m.\u001b[0m\u001b[0mpost\u001b[0m\u001b[0;34m(\u001b[0m\u001b[0;34m'https://api.bls.gov/publicAPI/v1/timeseries/data/'\u001b[0m\u001b[0;34m,\u001b[0m \u001b[0mdata\u001b[0m\u001b[0;34m=\u001b[0m\u001b[0mdata\u001b[0m\u001b[0;34m,\u001b[0m \u001b[0mheaders\u001b[0m\u001b[0;34m=\u001b[0m\u001b[0mheaders\u001b[0m\u001b[0;34m)\u001b[0m\u001b[0;34m\u001b[0m\u001b[0;34m\u001b[0m\u001b[0m\n\u001b[1;32m      7\u001b[0m \u001b[0mjson_data\u001b[0m \u001b[0;34m=\u001b[0m \u001b[0mjson\u001b[0m\u001b[0;34m.\u001b[0m\u001b[0mloads\u001b[0m\u001b[0;34m(\u001b[0m\u001b[0mp\u001b[0m\u001b[0;34m.\u001b[0m\u001b[0mtext\u001b[0m\u001b[0;34m)\u001b[0m\u001b[0;34m\u001b[0m\u001b[0;34m\u001b[0m\u001b[0m\n\u001b[0;32m----> 8\u001b[0;31m \u001b[0;32mfor\u001b[0m \u001b[0m_series_\u001b[0m \u001b[0;32min\u001b[0m \u001b[0mjson_data\u001b[0m\u001b[0;34m[\u001b[0m\u001b[0;34m'Results'\u001b[0m\u001b[0;34m]\u001b[0m\u001b[0;34m[\u001b[0m\u001b[0;34m'series'\u001b[0m\u001b[0;34m]\u001b[0m\u001b[0;34m:\u001b[0m\u001b[0;34m\u001b[0m\u001b[0;34m\u001b[0m\u001b[0m\n\u001b[0m\u001b[1;32m      9\u001b[0m     \u001b[0mx\u001b[0m\u001b[0;34m=\u001b[0m\u001b[0mprettytable\u001b[0m\u001b[0;34m.\u001b[0m\u001b[0mPrettyTable\u001b[0m\u001b[0;34m(\u001b[0m\u001b[0;34m[\u001b[0m\u001b[0;34m\"series id\"\u001b[0m\u001b[0;34m,\u001b[0m\u001b[0;34m\"year\"\u001b[0m\u001b[0;34m,\u001b[0m\u001b[0;34m\"period\"\u001b[0m\u001b[0;34m,\u001b[0m\u001b[0;34m\"value\"\u001b[0m\u001b[0;34m,\u001b[0m\u001b[0;34m\"footnotes\"\u001b[0m\u001b[0;34m]\u001b[0m\u001b[0;34m)\u001b[0m\u001b[0;34m\u001b[0m\u001b[0;34m\u001b[0m\u001b[0m\n\u001b[1;32m     10\u001b[0m     \u001b[0mseriesId\u001b[0m \u001b[0;34m=\u001b[0m \u001b[0m_series_\u001b[0m\u001b[0;34m[\u001b[0m\u001b[0;34m'seriesID'\u001b[0m\u001b[0;34m]\u001b[0m\u001b[0;34m\u001b[0m\u001b[0;34m\u001b[0m\u001b[0m\n",
            "\u001b[0;31mKeyError\u001b[0m: 'series'"
          ]
        }
      ]
    },
    {
      "cell_type": "code",
      "source": [
        "# -------------------------------------------------------------------\n",
        "# 1. Imports\n",
        "# -------------------------------------------------------------------\n",
        "import requests                # Used to make HTTP/HTTPS requests to the BLS API\n",
        "import json                    # Serialize Python dicts ↔ JSON strings\n",
        "import pandas as pd            # Main data-wrangling library\n",
        "from datetime import datetime  # To fetch the current year if the caller omits endyear\n",
        "from io import StringIO\n",
        "import re\n",
        "import csv"
      ],
      "metadata": {
        "id": "9AAWujXDifzi"
      },
      "execution_count": 9,
      "outputs": []
    },
    {
      "cell_type": "code",
      "source": [
        "# -------------------------------------------------------------------\n",
        "# 1. Imports\n",
        "# -------------------------------------------------------------------\n",
        "import requests                # Used to make HTTP/HTTPS requests to the BLS API\n",
        "import json                    # Serialize Python dicts ↔ JSON strings\n",
        "import pandas as pd            # Main data-wrangling library\n",
        "from datetime import datetime  # To fetch the current year if the caller omits endyear\n",
        "\n",
        "\n",
        "# -------------------------------------------------------------------\n",
        "# 2. Helper function: query the BLS API and return a tidy DataFrame\n",
        "# -------------------------------------------------------------------\n",
        "def bls_query(series_list,            # List of BLS series IDs you want (e.g. [\"JTS000000000...\"])\n",
        "              startyear='2019',       # First calendar year of data to request\n",
        "              endyear=None,           # Last calendar year (defaults to current year)\n",
        "              api_key=None):          # Optional: your BLS API key if you need >500 calls/day\n",
        "    \"\"\"\n",
        "    Send one POST request to the BLS v2 timeseries endpoint and\n",
        "    return a pandas DataFrame with datetime index and one column per series.\n",
        "    \"\"\"\n",
        "\n",
        "    # If user didn’t pass an endyear, default to the current year (e.g. 2024)\n",
        "    if endyear is None:\n",
        "        endyear = datetime.now().year\n",
        "\n",
        "    # HTTP header telling the server we are sending JSON in the body\n",
        "    headers = {'Content-type': 'application/json'}\n",
        "\n",
        "    # Build the request payload as a native Python dict first\n",
        "    request_json = {\n",
        "        \"seriesid\": series_list,      # Must be a list, even if it contains one element\n",
        "        \"startyear\": startyear,       # Must be a string per API spec\n",
        "        \"endyear\":  str(endyear)      # Ensure this is also a string\n",
        "    }\n",
        "\n",
        "    # Add the registration key only if the caller supplied one\n",
        "    if api_key:                       # Truthy if not None and not empty string\n",
        "        request_json[\"registrationKey\"] = api_key\n",
        "\n",
        "    # ----------------------------------------------------------------\n",
        "    # Make the POST request\n",
        "    # ----------------------------------------------------------------\n",
        "    resp = requests.post(\n",
        "        'https://api.bls.gov/publicAPI/v2/timeseries/data/',  # v1 still works, v2 is preferred\n",
        "        headers=headers,\n",
        "        data=json.dumps(request_json)   # Convert dict → JSON string for the body\n",
        "    )\n",
        "\n",
        "    # Raise a Python exception if we hit a 4xx/5xx HTTP error\n",
        "    resp.raise_for_status()\n",
        "\n",
        "    # Extract only the list of series objects from the JSON response\n",
        "    # The response JSON structure is: {\"Results\":{\"series\":[...]}}\n",
        "    data = resp.json()['Results']['series']\n",
        "\n",
        "    # ----------------------------------------------------------------\n",
        "    # Convert each series into one pandas DataFrame, then concat\n",
        "    # ----------------------------------------------------------------\n",
        "    df_list = []                       # Will hold one DataFrame per series\n",
        "    for s in data:                     # Loop over all series the API returned\n",
        "        rows = []                      # Temp list of dicts, one per observation\n",
        "        for item in s['data']:         # Each \"item\" is a single month/period\n",
        "            rows.append({\n",
        "                'series_id': s['seriesID'],                    # e.g. \"JTS420000000000000JOL\"\n",
        "                'date': f\"{item['year']}-{item['period'][1:]}\",# Construct \"YYYY-MM\" string\n",
        "                'value': float(item['value'])                  # Convert numeric string → float\n",
        "            })\n",
        "        # Convert list of dicts → DataFrame and add it to df_list\n",
        "        df_list.append(pd.DataFrame(rows))\n",
        "\n",
        "    # Concatenate all individual series DataFrames vertically (row-wise)\n",
        "    big_df = pd.concat(df_list)\n",
        "\n",
        "    # Cast the date column from text → pandas datetime type for time-series ops\n",
        "    big_df['date'] = pd.to_datetime(big_df['date'])\n",
        "\n",
        "    # Pivot from \"long\" to \"wide\":\n",
        "    #   rows  → dates\n",
        "    #   cols  → series_id\n",
        "    #   vals  → numeric value\n",
        "    wide_df = big_df.pivot(index='date',\n",
        "                           columns='series_id',\n",
        "                           values='value').sort_index()\n",
        "\n",
        "    return wide_df  # Ready for downstream analysis\n",
        "\n",
        "\n",
        "# -------------------------------------------------------------------\n",
        "# 3. Choose which industries (series IDs) you care about\n",
        "# -------------------------------------------------------------------\n",
        "# Keys are friendly names you’ll see in your final DataFrame;\n",
        "# values are official BLS JOLTS series IDs (seasonally adjusted).\n",
        "series_ids = {\n",
        "    'JobOpenings_Total'        : 'JTS000000000000000JOL',  # All industries\n",
        "    'JobOpenings_Manufacturing': 'JTS300000000000000JOL',  # Manufacturing\n",
        "    'JobOpenings_Retail'       : 'JTS420000000000000JOL',  # Retail Trade\n",
        "    'JobOpenings_Information'  : 'JTS500000000000000JOL',  # Information sector\n",
        "    'JobOpenings_Health'       : 'JTS620000000000000JOL',  # Health Care & Social Assistance\n",
        "    # Add more <friendly_name>:<series_id> pairs as needed\n",
        "}\n",
        "\n",
        "\n",
        "# -------------------------------------------------------------------\n",
        "# 4. Pull the data from BLS for all chosen series in one shot\n",
        "# -------------------------------------------------------------------\n",
        "df = bls_query(                       # Call our helper\n",
        "        list(series_ids.values()),    # Only the actual series IDs\n",
        "        startyear='2019'              # Feel free to adjust\n",
        "     )\n",
        "\n",
        "# -------------------------------------------------------------------\n",
        "# 5. Rename machine-generated column labels (series IDs) to readable names\n",
        "# -------------------------------------------------------------------\n",
        "df = df.rename(columns={v: k for k, v in series_ids.items()})\n",
        "# Now you’ll have columns like: JobOpenings_Total, JobOpenings_Retail, etc.\n",
        "\n",
        "\n",
        "# -------------------------------------------------------------------\n",
        "# 6. Calculate a simple demand indicator: year-over-year % change\n",
        "# -------------------------------------------------------------------\n",
        "# .pct_change(periods=12) computes (current_value ‑ value_12_months_ago)/value_12_months_ago\n",
        "# Multiply by 100 to express as a percentage.\n",
        "yoy = df.pct_change(periods=12) * 100\n",
        "\n",
        "\n",
        "# -------------------------------------------------------------------\n",
        "# 7. Find the latest month available and rank industries by YoY growth\n",
        "# -------------------------------------------------------------------\n",
        "latest = (yoy\n",
        "          .tail(1)                   # Last row → most recent month\n",
        "          .T                         # Transpose so industries are rows\n",
        "          .sort_values(by=yoy.tail(1).index[0])  # Sort ascending (lowest to highest)\n",
        "         )\n",
        "\n",
        "print(\"Year-over-year % change in job openings (latest month):\")\n",
        "print(latest)  # Display table in console / Jupyter cell"
      ],
      "metadata": {
        "colab": {
          "base_uri": "https://localhost:8080/",
          "height": 332
        },
        "id": "afsR8YwZ10xs",
        "outputId": "b55ac943-a5bb-4bd4-a7d3-5b5da99da6a6"
      },
      "execution_count": 18,
      "outputs": [
        {
          "output_type": "error",
          "ename": "KeyError",
          "evalue": "'series'",
          "traceback": [
            "\u001b[0;31m---------------------------------------------------------------------------\u001b[0m",
            "\u001b[0;31mKeyError\u001b[0m                                  Traceback (most recent call last)",
            "\u001b[0;32m/tmp/ipython-input-1424841550.py\u001b[0m in \u001b[0;36m<cell line: 0>\u001b[0;34m()\u001b[0m\n\u001b[1;32m    104\u001b[0m \u001b[0;31m# 4. Pull the data from BLS for all chosen series in one shot\u001b[0m\u001b[0;34m\u001b[0m\u001b[0;34m\u001b[0m\u001b[0m\n\u001b[1;32m    105\u001b[0m \u001b[0;31m# -------------------------------------------------------------------\u001b[0m\u001b[0;34m\u001b[0m\u001b[0;34m\u001b[0m\u001b[0m\n\u001b[0;32m--> 106\u001b[0;31m df = bls_query(                       # Call our helper\n\u001b[0m\u001b[1;32m    107\u001b[0m         \u001b[0mlist\u001b[0m\u001b[0;34m(\u001b[0m\u001b[0mseries_ids\u001b[0m\u001b[0;34m.\u001b[0m\u001b[0mvalues\u001b[0m\u001b[0;34m(\u001b[0m\u001b[0;34m)\u001b[0m\u001b[0;34m)\u001b[0m\u001b[0;34m,\u001b[0m    \u001b[0;31m# Only the actual series IDs\u001b[0m\u001b[0;34m\u001b[0m\u001b[0;34m\u001b[0m\u001b[0m\n\u001b[1;32m    108\u001b[0m         \u001b[0mstartyear\u001b[0m\u001b[0;34m=\u001b[0m\u001b[0;34m'2019'\u001b[0m              \u001b[0;31m# Feel free to adjust\u001b[0m\u001b[0;34m\u001b[0m\u001b[0;34m\u001b[0m\u001b[0m\n",
            "\u001b[0;32m/tmp/ipython-input-1424841550.py\u001b[0m in \u001b[0;36mbls_query\u001b[0;34m(series_list, startyear, endyear, api_key)\u001b[0m\n\u001b[1;32m     52\u001b[0m     \u001b[0;31m# Extract only the list of series objects from the JSON response\u001b[0m\u001b[0;34m\u001b[0m\u001b[0;34m\u001b[0m\u001b[0m\n\u001b[1;32m     53\u001b[0m     \u001b[0;31m# The response JSON structure is: {\"Results\":{\"series\":[...]}}\u001b[0m\u001b[0;34m\u001b[0m\u001b[0;34m\u001b[0m\u001b[0m\n\u001b[0;32m---> 54\u001b[0;31m     \u001b[0mdata\u001b[0m \u001b[0;34m=\u001b[0m \u001b[0mresp\u001b[0m\u001b[0;34m.\u001b[0m\u001b[0mjson\u001b[0m\u001b[0;34m(\u001b[0m\u001b[0;34m)\u001b[0m\u001b[0;34m[\u001b[0m\u001b[0;34m'Results'\u001b[0m\u001b[0;34m]\u001b[0m\u001b[0;34m[\u001b[0m\u001b[0;34m'series'\u001b[0m\u001b[0;34m]\u001b[0m\u001b[0;34m\u001b[0m\u001b[0;34m\u001b[0m\u001b[0m\n\u001b[0m\u001b[1;32m     55\u001b[0m \u001b[0;34m\u001b[0m\u001b[0m\n\u001b[1;32m     56\u001b[0m     \u001b[0;31m# ----------------------------------------------------------------\u001b[0m\u001b[0;34m\u001b[0m\u001b[0;34m\u001b[0m\u001b[0m\n",
            "\u001b[0;31mKeyError\u001b[0m: 'series'"
          ]
        }
      ]
    },
    {
      "cell_type": "code",
      "source": [],
      "metadata": {
        "id": "EvgQnhCD2XrU"
      },
      "execution_count": null,
      "outputs": []
    }
  ]
}